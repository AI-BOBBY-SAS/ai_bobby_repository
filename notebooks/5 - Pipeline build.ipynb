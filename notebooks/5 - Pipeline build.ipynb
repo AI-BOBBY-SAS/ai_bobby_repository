{
 "cells": [
  {
   "cell_type": "code",
   "execution_count": 17,
   "metadata": {},
   "outputs": [],
   "source": [
    "import pandas as pd\n",
    "import numpy as np"
   ]
  },
  {
   "cell_type": "markdown",
   "metadata": {},
   "source": [
    "## 1 - Prepare data"
   ]
  },
  {
   "cell_type": "code",
   "execution_count": 18,
   "metadata": {},
   "outputs": [],
   "source": [
    "# Get data\n",
    "df = pd.read_csv(\n",
    "    '/home/templar/Desktop/projects/zaz/client-projects/ai-bobby-classification/data/raw/gelation_hardness_dec_2024.csv',\n",
    "    dtype={\n",
    "        'Treatment code': object,\n",
    "        'Protein codes': object,\n",
    "        'Type of salt': object,\n",
    "        'Additives': object,\n",
    "    }\n",
    ")\n",
    "\n",
    "# Define categorical columns\n",
    "categorical_columns = ['Protein codes', 'Type of salt', 'Additives', 'Treatment code']\n",
    "\n",
    "# Define numeric columns\n",
    "numerical_columns = [\n",
    "    'Samples stored (°C)',\n",
    "    'ionic strength (M)',\n",
    "    'Additives Concentration (%)',\n",
    "    'Protein Concentration (%)',\n",
    "    'pH',\n",
    "    'Heating temperature (°C) for gel preparation',\n",
    "    'Heating/hold time (min)',\n",
    "    'Hardness/firmness/strength (g)'\n",
    "]\n",
    "\n",
    "# Convert object columns to categorical\n",
    "for col in categorical_columns:\n",
    "    df[col] = df[col].astype('object')\n",
    "\n",
    "# Convert columns to numeric\n",
    "for col in numerical_columns:\n",
    "    df[col] = df[col].astype('float64')\n",
    "\n",
    "# Columns to drop\n",
    "columns_to_drop = [\n",
    "    'Citation',\n",
    "    'Citation Link',\n",
    "    'Protein',\n",
    "    'Treatment condition code',\n",
    "    'Treatment condition value',\n",
    "    'Treatment temperature ( °C)',\n",
    "    'Treatment time (min)',\n",
    "    'Storage time (h)',\n",
    "    'If a gel can be formed (0-1)',\n",
    "]\n",
    "\n",
    "# Drop columns\n",
    "df_clean = df.drop(columns=columns_to_drop, axis=1)\n",
    "\n",
    "# Drop rows with missing target values\n",
    "df_clean = df_clean.dropna(subset=['Hardness/firmness/strength (g)'])"
   ]
  },
  {
   "cell_type": "markdown",
   "metadata": {},
   "source": [
    "### Transform target variable\n",
    "- Soft gel = 0 to 1000 grams (upto 10 Newtons)\n",
    "- Firm gel = 1000 to 5000 grams (50 Newtons)\n",
    "- Rigid gel/stable gel = 5000 to 1,000,000 grams\n"
   ]
  },
  {
   "cell_type": "code",
   "execution_count": 19,
   "metadata": {},
   "outputs": [],
   "source": [
    "def categorize_gel_strength(dataframe: pd.DataFrame, column_name: str) -> pd.DataFrame:\n",
    "    \"\"\"\n",
    "    Categorizes a continuous column into gel strength categories.\n",
    "\n",
    "    Parameters:\n",
    "    dataframe (pd.DataFrame): Input DataFrame.\n",
    "    column_name (str): Name of the column to be transformed.\n",
    "\n",
    "    Returns:\n",
    "    pd.DataFrame: DataFrame with a new column `<column_name>_category` containing the categories.\n",
    "    \"\"\"\n",
    "    # Define the bins and labels\n",
    "    bins = [0, 1000, 5000, 1000000]\n",
    "    labels = [0, 1, 2] # Soft, Firm, Rigid\n",
    "\n",
    "    # Create a new column for the categories\n",
    "    category_column_name = f\"{column_name}_category\"\n",
    "    dataframe[category_column_name] = pd.cut(\n",
    "        dataframe[column_name], bins=bins, labels=labels, include_lowest=True\n",
    "    )\n",
    "\n",
    "    return dataframe"
   ]
  },
  {
   "cell_type": "code",
   "execution_count": 20,
   "metadata": {},
   "outputs": [
    {
     "data": {
      "text/html": [
       "<div>\n",
       "<style scoped>\n",
       "    .dataframe tbody tr th:only-of-type {\n",
       "        vertical-align: middle;\n",
       "    }\n",
       "\n",
       "    .dataframe tbody tr th {\n",
       "        vertical-align: top;\n",
       "    }\n",
       "\n",
       "    .dataframe thead th {\n",
       "        text-align: right;\n",
       "    }\n",
       "</style>\n",
       "<table border=\"1\" class=\"dataframe\">\n",
       "  <thead>\n",
       "    <tr style=\"text-align: right;\">\n",
       "      <th></th>\n",
       "      <th>Protein codes</th>\n",
       "      <th>Protein Concentration (%)</th>\n",
       "      <th>Treatment code</th>\n",
       "      <th>Additives</th>\n",
       "      <th>Additives Concentration (%)</th>\n",
       "      <th>pH</th>\n",
       "      <th>Type of salt</th>\n",
       "      <th>ionic strength (M)</th>\n",
       "      <th>Heating temperature (°C) for gel preparation</th>\n",
       "      <th>Heating/hold time (min)</th>\n",
       "      <th>Samples stored (°C)</th>\n",
       "      <th>Hardness/firmness/strength (g)</th>\n",
       "      <th>Hardness/firmness/strength (g)_category</th>\n",
       "    </tr>\n",
       "  </thead>\n",
       "  <tbody>\n",
       "    <tr>\n",
       "      <th>0</th>\n",
       "      <td>10501</td>\n",
       "      <td>12.0</td>\n",
       "      <td>NaN</td>\n",
       "      <td>NaN</td>\n",
       "      <td>NaN</td>\n",
       "      <td>5.0</td>\n",
       "      <td>NaN</td>\n",
       "      <td>NaN</td>\n",
       "      <td>90.0</td>\n",
       "      <td>30.0</td>\n",
       "      <td>4.0</td>\n",
       "      <td>131.91</td>\n",
       "      <td>0</td>\n",
       "    </tr>\n",
       "    <tr>\n",
       "      <th>1</th>\n",
       "      <td>10501</td>\n",
       "      <td>12.0</td>\n",
       "      <td>NaN</td>\n",
       "      <td>80203</td>\n",
       "      <td>0.5</td>\n",
       "      <td>5.0</td>\n",
       "      <td>NaN</td>\n",
       "      <td>NaN</td>\n",
       "      <td>90.0</td>\n",
       "      <td>30.0</td>\n",
       "      <td>4.0</td>\n",
       "      <td>155.91</td>\n",
       "      <td>0</td>\n",
       "    </tr>\n",
       "    <tr>\n",
       "      <th>2</th>\n",
       "      <td>10501</td>\n",
       "      <td>12.0</td>\n",
       "      <td>NaN</td>\n",
       "      <td>80203</td>\n",
       "      <td>1.0</td>\n",
       "      <td>5.0</td>\n",
       "      <td>NaN</td>\n",
       "      <td>NaN</td>\n",
       "      <td>90.0</td>\n",
       "      <td>30.0</td>\n",
       "      <td>4.0</td>\n",
       "      <td>151.14</td>\n",
       "      <td>0</td>\n",
       "    </tr>\n",
       "    <tr>\n",
       "      <th>3</th>\n",
       "      <td>10501</td>\n",
       "      <td>12.0</td>\n",
       "      <td>NaN</td>\n",
       "      <td>80203</td>\n",
       "      <td>2.0</td>\n",
       "      <td>5.0</td>\n",
       "      <td>NaN</td>\n",
       "      <td>NaN</td>\n",
       "      <td>90.0</td>\n",
       "      <td>30.0</td>\n",
       "      <td>4.0</td>\n",
       "      <td>144.84</td>\n",
       "      <td>0</td>\n",
       "    </tr>\n",
       "    <tr>\n",
       "      <th>4</th>\n",
       "      <td>10501</td>\n",
       "      <td>12.0</td>\n",
       "      <td>NaN</td>\n",
       "      <td>NaN</td>\n",
       "      <td>NaN</td>\n",
       "      <td>6.0</td>\n",
       "      <td>NaN</td>\n",
       "      <td>NaN</td>\n",
       "      <td>90.0</td>\n",
       "      <td>30.0</td>\n",
       "      <td>4.0</td>\n",
       "      <td>95.71</td>\n",
       "      <td>0</td>\n",
       "    </tr>\n",
       "  </tbody>\n",
       "</table>\n",
       "</div>"
      ],
      "text/plain": [
       "  Protein codes  Protein Concentration (%) Treatment code Additives  \\\n",
       "0         10501                       12.0            NaN       NaN   \n",
       "1         10501                       12.0            NaN     80203   \n",
       "2         10501                       12.0            NaN     80203   \n",
       "3         10501                       12.0            NaN     80203   \n",
       "4         10501                       12.0            NaN       NaN   \n",
       "\n",
       "   Additives Concentration (%)   pH Type of salt  ionic strength (M)  \\\n",
       "0                          NaN  5.0          NaN                 NaN   \n",
       "1                          0.5  5.0          NaN                 NaN   \n",
       "2                          1.0  5.0          NaN                 NaN   \n",
       "3                          2.0  5.0          NaN                 NaN   \n",
       "4                          NaN  6.0          NaN                 NaN   \n",
       "\n",
       "   Heating temperature (°C) for gel preparation  Heating/hold time (min)  \\\n",
       "0                                          90.0                     30.0   \n",
       "1                                          90.0                     30.0   \n",
       "2                                          90.0                     30.0   \n",
       "3                                          90.0                     30.0   \n",
       "4                                          90.0                     30.0   \n",
       "\n",
       "   Samples stored (°C)  Hardness/firmness/strength (g)  \\\n",
       "0                  4.0                          131.91   \n",
       "1                  4.0                          155.91   \n",
       "2                  4.0                          151.14   \n",
       "3                  4.0                          144.84   \n",
       "4                  4.0                           95.71   \n",
       "\n",
       "  Hardness/firmness/strength (g)_category  \n",
       "0                                       0  \n",
       "1                                       0  \n",
       "2                                       0  \n",
       "3                                       0  \n",
       "4                                       0  "
      ]
     },
     "execution_count": 20,
     "metadata": {},
     "output_type": "execute_result"
    }
   ],
   "source": [
    "df_clean = categorize_gel_strength(df_clean, 'Hardness/firmness/strength (g)')\n",
    "df_clean.head()"
   ]
  },
  {
   "cell_type": "code",
   "execution_count": 21,
   "metadata": {},
   "outputs": [],
   "source": [
    "df_clean.drop(columns=['Hardness/firmness/strength (g)'], inplace=True)"
   ]
  },
  {
   "cell_type": "code",
   "execution_count": 22,
   "metadata": {},
   "outputs": [
    {
     "data": {
      "text/plain": [
       "Hardness/firmness/strength (g)_category\n",
       "0    863\n",
       "1     88\n",
       "2     54\n",
       "Name: count, dtype: int64"
      ]
     },
     "execution_count": 22,
     "metadata": {},
     "output_type": "execute_result"
    }
   ],
   "source": [
    "df_clean['Hardness/firmness/strength (g)_category'].value_counts()"
   ]
  },
  {
   "cell_type": "code",
   "execution_count": 23,
   "metadata": {},
   "outputs": [
    {
     "name": "stdout",
     "output_type": "stream",
     "text": [
      "<class 'pandas.core.frame.DataFrame'>\n",
      "RangeIndex: 1005 entries, 0 to 1004\n",
      "Data columns (total 12 columns):\n",
      " #   Column                                        Non-Null Count  Dtype   \n",
      "---  ------                                        --------------  -----   \n",
      " 0   Protein codes                                 1005 non-null   object  \n",
      " 1   Protein Concentration (%)                     1005 non-null   float64 \n",
      " 2   Treatment code                                587 non-null    object  \n",
      " 3   Additives                                     588 non-null    object  \n",
      " 4   Additives Concentration (%)                   568 non-null    float64 \n",
      " 5   pH                                            863 non-null    float64 \n",
      " 6   Type of salt                                  479 non-null    object  \n",
      " 7   ionic strength (M)                            479 non-null    float64 \n",
      " 8   Heating temperature (°C) for gel preparation  867 non-null    float64 \n",
      " 9   Heating/hold time (min)                       867 non-null    float64 \n",
      " 10  Samples stored (°C)                           906 non-null    float64 \n",
      " 11  Hardness/firmness/strength (g)_category       1005 non-null   category\n",
      "dtypes: category(1), float64(7), object(4)\n",
      "memory usage: 87.6+ KB\n"
     ]
    }
   ],
   "source": [
    "df_clean.info()"
   ]
  },
  {
   "cell_type": "code",
   "execution_count": 24,
   "metadata": {},
   "outputs": [],
   "source": [
    "X = df_clean.drop('Hardness/firmness/strength (g)_category', axis=1)\n",
    "y = df_clean['Hardness/firmness/strength (g)_category']"
   ]
  },
  {
   "cell_type": "markdown",
   "metadata": {},
   "source": [
    "## 2 - Train models"
   ]
  },
  {
   "cell_type": "code",
   "execution_count": 25,
   "metadata": {},
   "outputs": [],
   "source": [
    "from warnings import filterwarnings\n",
    "filterwarnings('ignore')\n",
    "from flaml import AutoML\n",
    "\n",
    "from sklearn.model_selection import train_test_split\n",
    "\n",
    "X_train, X_test, y_train, y_test = train_test_split(X, y, test_size=0.1, random_state=42)\n",
    "automl_settings = {\n",
    "    \"time_budget\": 10,  # total running time in seconds\n",
    "    \"metric\": 'log_loss',\n",
    "    \"task\": 'classification',\n",
    "    \"estimator_list\": ['lgbm', 'catboost', 'rf', 'xgboost', 'extra_tree'],\n",
    "    \"split_type\": 'stratified',\n",
    "    \"n_jobs\": -1,\n",
    "    \"log_file_name\": 'automl.log',\n",
    "    \"verbose\": 0,\n",
    "    \"seed\": 42,\n",
    "    \"early_stop\": True\n",
    "}\n",
    "\n",
    "automl = AutoML(**automl_settings)\n",
    "automl.fit(X_train, y_train, task=\"classification\")"
   ]
  },
  {
   "cell_type": "code",
   "execution_count": 26,
   "metadata": {},
   "outputs": [
    {
     "data": {
      "text/plain": [
       "'lgbm'"
      ]
     },
     "execution_count": 26,
     "metadata": {},
     "output_type": "execute_result"
    }
   ],
   "source": [
    "automl.best_estimator"
   ]
  },
  {
   "cell_type": "code",
   "execution_count": 27,
   "metadata": {},
   "outputs": [
    {
     "data": {
      "text/plain": [
       "{'n_estimators': 19,\n",
       " 'num_leaves': 11,\n",
       " 'min_child_samples': 8,\n",
       " 'learning_rate': 0.22926234904753484,\n",
       " 'log_max_bin': 10,\n",
       " 'colsample_bytree': 0.832361601243933,\n",
       " 'reg_alpha': 0.0026060083505422683,\n",
       " 'reg_lambda': 0.5487740986174037}"
      ]
     },
     "execution_count": 27,
     "metadata": {},
     "output_type": "execute_result"
    }
   ],
   "source": [
    "automl.best_config"
   ]
  },
  {
   "cell_type": "code",
   "execution_count": 28,
   "metadata": {},
   "outputs": [],
   "source": [
    "y_pred = automl.predict(X_test)"
   ]
  },
  {
   "cell_type": "markdown",
   "metadata": {},
   "source": [
    "## 3 - Confusion matrix for best model"
   ]
  },
  {
   "cell_type": "code",
   "execution_count": 29,
   "metadata": {},
   "outputs": [
    {
     "data": {
      "image/png": "[encoded data removed]",
      "text/plain": [
       "<Figure size 800x600 with 2 Axes>"
      ]
     },
     "metadata": {},
     "output_type": "display_data"
    }
   ],
   "source": [
    "from matplotlib import pyplot as plt\n",
    "from sklearn.metrics import confusion_matrix\n",
    "import seaborn as sns\n",
    "\n",
    "# Class labels\n",
    "class_names = [\"Soft gel\", \"Firm gel\", \"Rigid gel\"]\n",
    "\n",
    "# Compute confusion matrix\n",
    "cm = confusion_matrix(y_test, y_pred)  # Raw counts\n",
    "cm_normalized = confusion_matrix(y_test, y_pred, normalize='true')  # Normalize by row to get percentages\n",
    "\n",
    "# Convert to percentage and format as string\n",
    "cm_percentage = cm_normalized * 100\n",
    "cm_labels = np.array([f\"{count}\\n({value:.1f}%)\" for count, value in zip(cm.flatten(), cm_percentage.flatten())]).reshape(cm.shape)\n",
    "\n",
    "# Plot using seaborn\n",
    "plt.figure(figsize=(8, 6))\n",
    "sns.heatmap(cm_percentage, annot=cm_labels, fmt='', cmap=\"Blues\", xticklabels=class_names, yticklabels=class_names)\n",
    "\n",
    "# Add title and labels\n",
    "plt.title(\"Multiclass Confusion Matrix\")\n",
    "plt.xlabel(\"Predicted Label\")\n",
    "plt.ylabel(\"True Label\")\n",
    "plt.tight_layout()\n",
    "plt.show()"
   ]
  },
  {
   "cell_type": "code",
   "execution_count": 30,
   "metadata": {},
   "outputs": [
    {
     "name": "stdout",
     "output_type": "stream",
     "text": [
      "0.9603960396039604\n"
     ]
    }
   ],
   "source": [
    "print(f1_score(y_test, y_pred, average='micro'))\n"
   ]
  },
  {
   "cell_type": "code",
   "execution_count": 31,
   "metadata": {},
   "outputs": [
    {
     "name": "stdout",
     "output_type": "stream",
     "text": [
      "0.9603960396039604\n"
     ]
    }
   ],
   "source": [
    "from sklearn.metrics import accuracy_score\n",
    "print(accuracy_score(y_test, y_pred))"
   ]
  },
  {
   "cell_type": "markdown",
   "metadata": {},
   "source": [
    "## 4 - Save model as joblib object"
   ]
  },
  {
   "cell_type": "code",
   "execution_count": 32,
   "metadata": {},
   "outputs": [
    {
     "data": {
      "text/plain": [
       "['model.joblib']"
      ]
     },
     "execution_count": 32,
     "metadata": {},
     "output_type": "execute_result"
    }
   ],
   "source": [
    "import joblib\n",
    "joblib.dump(automl, 'model.joblib')"
   ]
  },
  {
   "cell_type": "code",
   "execution_count": 33,
   "metadata": {},
   "outputs": [
    {
     "data": {
      "text/plain": [
       "array([0, 0, 0, 0, 2, 0, 0, 0, 0, 0, 0, 2, 0, 0, 0, 2, 0, 1, 0, 0, 0, 0,\n",
       "       0, 0, 0, 0, 2, 0, 0, 0, 1, 0, 0, 1, 0, 0, 0, 0, 0, 0, 0, 0, 0, 0,\n",
       "       0, 0, 0, 0, 0, 0, 0, 1, 2, 0, 0, 0, 2, 1, 0, 1, 0, 0, 0, 0, 0, 0,\n",
       "       0, 1, 0, 0, 0, 0, 0, 0, 1, 0, 0, 0, 0, 0, 0, 0, 2, 0, 0, 0, 0, 0,\n",
       "       0, 0, 0, 0, 0, 0, 0, 0, 0, 0, 0, 2, 0])"
      ]
     },
     "execution_count": 33,
     "metadata": {},
     "output_type": "execute_result"
    }
   ],
   "source": [
    "# load model and predict\n",
    "loaded_model = joblib.load('model.joblib')\n",
    "loaded_model.predict(X_test)"
   ]
  }
 ],
 "metadata": {
  "kernelspec": {
   "display_name": "Python 3 (ipykernel)",
   "language": "python",
   "name": "python3"
  },
  "language_info": {
   "codemirror_mode": {
    "name": "ipython",
    "version": 3
   },
   "file_extension": ".py",
   "mimetype": "text/x-python",
   "name": "python",
   "nbconvert_exporter": "python",
   "pygments_lexer": "ipython3",
   "version": "3.12.6"
  }
 },
 "nbformat": 4,
 "nbformat_minor": 4
}
